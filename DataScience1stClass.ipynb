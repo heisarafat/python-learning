{
 "cells": [
  {
   "cell_type": "code",
   "execution_count": 1,
   "id": "029a02e3-69e5-4fca-928f-73614b0cdd9e",
   "metadata": {},
   "outputs": [
    {
     "name": "stdout",
     "output_type": "stream",
     "text": [
      "Hello World\n"
     ]
    }
   ],
   "source": [
    "print(\"Hello World\")"
   ]
  },
  {
   "cell_type": "markdown",
   "id": "3082bb85-f5f6-40ea-b3c0-3870fed3cb9c",
   "metadata": {},
   "source": [
    "VALUES, VARIABLES & ASSIGNMENT OPERATOR"
   ]
  },
  {
   "cell_type": "code",
   "execution_count": 2,
   "id": "d8c9e5eb-3c8a-42a3-bcac-119009a34594",
   "metadata": {},
   "outputs": [
    {
     "name": "stdout",
     "output_type": "stream",
     "text": [
      "5\n"
     ]
    }
   ],
   "source": [
    "X = 5\n",
    "print(X)"
   ]
  },
  {
   "cell_type": "code",
   "execution_count": 4,
   "id": "9d7e65f2-a1c5-4283-8191-5e131b04fba4",
   "metadata": {},
   "outputs": [
    {
     "name": "stdout",
     "output_type": "stream",
     "text": [
      "John\n",
      "True\n",
      "24\n",
      "5.2\n",
      "3j\n",
      "<class 'str'>\n",
      "<class 'bool'>\n",
      "<class 'int'>\n",
      "<class 'float'>\n",
      "<class 'complex'>\n"
     ]
    }
   ],
   "source": [
    "Name = \"John\"\n",
    "Male = True\n",
    "Age = 24\n",
    "Height = 5.2\n",
    "Class = 3j\n",
    "print(Name)\n",
    "print(Male)\n",
    "print(Age)\n",
    "print(Height)\n",
    "print(Class)\n",
    "print(type(Name))\n",
    "print(type(Male))\n",
    "print(type(Age))\n",
    "print(type(Height))\n",
    "print(type(Class))"
   ]
  },
  {
   "cell_type": "markdown",
   "id": "8100a7a3-8fd0-413a-8e75-c976b897397a",
   "metadata": {},
   "source": [
    "OPERATORS IN PYTHON\n",
    "Arithmetic operator: (+,-,*,/,**,%,//)\n",
    "Assignment operator: (=,+=,-=,/=)\n",
    "Comparison operator: (==,!=,>,<,>=,<=)\n",
    "Logical operators: (and, or, not)"
   ]
  },
  {
   "cell_type": "code",
   "execution_count": 7,
   "id": "eff6288a-72d3-4458-b3c8-84f19b80904c",
   "metadata": {},
   "outputs": [
    {
     "name": "stdout",
     "output_type": "stream",
     "text": [
      "22.5\n"
     ]
    }
   ],
   "source": [
    "# Arithmetic operator: (+,-,*,/,**,%,//)\n",
    "X= 10\n",
    "Y= 12.5\n",
    "print(X+Y)"
   ]
  },
  {
   "cell_type": "code",
   "execution_count": 8,
   "id": "f4aa53ff-6d86-4b11-bc84-524d06096e9c",
   "metadata": {},
   "outputs": [
    {
     "name": "stdout",
     "output_type": "stream",
     "text": [
      "2.5\n"
     ]
    }
   ],
   "source": [
    "X= 10\n",
    "Y= 12.5\n",
    "print(Y-X)"
   ]
  },
  {
   "cell_type": "code",
   "execution_count": 9,
   "id": "bbc01ac5-4759-46e1-bfc8-907fe0269267",
   "metadata": {},
   "outputs": [
    {
     "name": "stdout",
     "output_type": "stream",
     "text": [
      "125.0\n"
     ]
    }
   ],
   "source": [
    "X= 10\n",
    "Y= 12.5\n",
    "print(X*Y)"
   ]
  },
  {
   "cell_type": "code",
   "execution_count": 10,
   "id": "53e68321-d17e-41f2-ba72-a245275168e5",
   "metadata": {},
   "outputs": [
    {
     "name": "stdout",
     "output_type": "stream",
     "text": [
      "3.0\n"
     ]
    }
   ],
   "source": [
    "y=15\n",
    "x=5\n",
    "division= y/x\n",
    "print(division)"
   ]
  },
  {
   "cell_type": "code",
   "execution_count": 11,
   "id": "3eb40017-3bad-4a3d-85d3-790bba048bd4",
   "metadata": {},
   "outputs": [
    {
     "name": "stdout",
     "output_type": "stream",
     "text": [
      "125\n"
     ]
    }
   ],
   "source": [
    "expo= x**3\n",
    "print(expo)"
   ]
  },
  {
   "cell_type": "code",
   "execution_count": 12,
   "id": "9ecf9db5-045c-441a-bd07-47d96aee1de4",
   "metadata": {},
   "outputs": [
    {
     "name": "stdout",
     "output_type": "stream",
     "text": [
      "3\n"
     ]
    }
   ],
   "source": [
    "mod= y//x\n",
    "print(mod)"
   ]
  },
  {
   "cell_type": "code",
   "execution_count": 13,
   "id": "e7b64a10-c905-4c6a-925d-a7efb7ff870f",
   "metadata": {},
   "outputs": [
    {
     "name": "stdout",
     "output_type": "stream",
     "text": [
      "0\n"
     ]
    }
   ],
   "source": [
    "rec= y%x\n",
    "print(rec)"
   ]
  },
  {
   "cell_type": "code",
   "execution_count": 15,
   "id": "a225e9d7-a63e-4ea2-8f42-2974f7b281f3",
   "metadata": {},
   "outputs": [
    {
     "name": "stdout",
     "output_type": "stream",
     "text": [
      "23\n"
     ]
    }
   ],
   "source": [
    "# Assignment operator: (=,+=,-=,/=)\n",
    "y +=4\n",
    "print(y)"
   ]
  },
  {
   "cell_type": "code",
   "execution_count": 16,
   "id": "a3de9e36-075d-49e5-80b9-0df0000c6b8a",
   "metadata": {},
   "outputs": [
    {
     "name": "stdout",
     "output_type": "stream",
     "text": [
      "20\n"
     ]
    }
   ],
   "source": [
    "y -=3\n",
    "print(y)"
   ]
  },
  {
   "cell_type": "code",
   "execution_count": 17,
   "id": "ebe12426-8fbb-4b07-98a3-cc2e6cb9e91c",
   "metadata": {},
   "outputs": [
    {
     "name": "stdout",
     "output_type": "stream",
     "text": [
      "5.0\n"
     ]
    }
   ],
   "source": [
    "y /=4\n",
    "print(y)"
   ]
  },
  {
   "cell_type": "code",
   "execution_count": 18,
   "id": "9e13867a-0e41-41d6-a397-50704e29b3f3",
   "metadata": {},
   "outputs": [
    {
     "name": "stdout",
     "output_type": "stream",
     "text": [
      "False\n"
     ]
    }
   ],
   "source": [
    "# Comparison operator: (==,!=,>,<,>=,<=)\n",
    "X=10\n",
    "Y=12\n",
    "compare = X==Y\n",
    "print(compare)"
   ]
  },
  {
   "cell_type": "code",
   "execution_count": 19,
   "id": "2d04eb38-b569-4ba4-aae1-cf676cccf7ff",
   "metadata": {},
   "outputs": [
    {
     "name": "stdout",
     "output_type": "stream",
     "text": [
      "True\n"
     ]
    }
   ],
   "source": [
    "X=10\n",
    "Y=12\n",
    "compare = X!=Y\n",
    "print(compare)"
   ]
  },
  {
   "cell_type": "code",
   "execution_count": 20,
   "id": "d001ec92-a041-46d7-aa37-1bb92107d567",
   "metadata": {},
   "outputs": [
    {
     "name": "stdout",
     "output_type": "stream",
     "text": [
      "False\n"
     ]
    }
   ],
   "source": [
    "X=10\n",
    "Y=12\n",
    "compare = X>Y\n",
    "print(compare)"
   ]
  },
  {
   "cell_type": "code",
   "execution_count": 21,
   "id": "d5bff170-b093-4c29-8c1e-b35ed5c40bd4",
   "metadata": {},
   "outputs": [
    {
     "name": "stdout",
     "output_type": "stream",
     "text": [
      "True\n"
     ]
    }
   ],
   "source": [
    "X=10\n",
    "Y=12\n",
    "compare = X<Y\n",
    "print(compare)"
   ]
  },
  {
   "cell_type": "code",
   "execution_count": 22,
   "id": "8509884d-60c1-475e-a34f-3e71abbdd4cf",
   "metadata": {},
   "outputs": [
    {
     "name": "stdout",
     "output_type": "stream",
     "text": [
      "True\n"
     ]
    }
   ],
   "source": [
    "X=10\n",
    "Y=12\n",
    "compare = X<=Y\n",
    "print(compare)"
   ]
  },
  {
   "cell_type": "code",
   "execution_count": 23,
   "id": "c27088b0-95ec-43a8-8ceb-a2ad45e96888",
   "metadata": {},
   "outputs": [
    {
     "name": "stdout",
     "output_type": "stream",
     "text": [
      "False\n"
     ]
    }
   ],
   "source": [
    "X=10\n",
    "Y=12\n",
    "compare = X>=Y\n",
    "print(compare)"
   ]
  },
  {
   "cell_type": "code",
   "execution_count": 24,
   "id": "5e5ed9ed-7fe4-4158-8896-a1fca5bce3ab",
   "metadata": {},
   "outputs": [
    {
     "name": "stdout",
     "output_type": "stream",
     "text": [
      "False\n"
     ]
    }
   ],
   "source": [
    "# Logical operators: (and, or, not)\n",
    "anddd = X == 10 and Y == 8\n",
    "print(anddd)"
   ]
  },
  {
   "cell_type": "code",
   "execution_count": 25,
   "id": "f077488b-46b1-431d-9890-080336fa2185",
   "metadata": {},
   "outputs": [
    {
     "name": "stdout",
     "output_type": "stream",
     "text": [
      "True\n"
     ]
    }
   ],
   "source": [
    "anddd = not(X == 67 and Y == 8)\n",
    "print(anddd)"
   ]
  },
  {
   "cell_type": "markdown",
   "id": "84c92341-ad6c-4448-a715-2ed0372b2651",
   "metadata": {},
   "source": [
    "CONCATENATION"
   ]
  },
  {
   "cell_type": "code",
   "execution_count": 27,
   "id": "003993c8-c102-400e-a1aa-d05839cc24f4",
   "metadata": {},
   "outputs": [
    {
     "name": "stdout",
     "output_type": "stream",
     "text": [
      "my name is John\n"
     ]
    }
   ],
   "source": [
    "Name = \"John\"\n",
    "Age = 24\n",
    "print('my name is ' + Name)"
   ]
  },
  {
   "cell_type": "code",
   "execution_count": 30,
   "id": "d605420b-94de-4a64-b5cb-8c838a7d6267",
   "metadata": {},
   "outputs": [
    {
     "name": "stdout",
     "output_type": "stream",
     "text": [
      "My name is John and I am 24 years old\n"
     ]
    }
   ],
   "source": [
    "print(f'My name is {Name} and I am {Age} years old')"
   ]
  },
  {
   "cell_type": "code",
   "execution_count": 31,
   "id": "a605fed5-1fb8-4ae5-b207-90b9d27a2f5f",
   "metadata": {},
   "outputs": [
    {
     "name": "stdout",
     "output_type": "stream",
     "text": [
      "Alex\n"
     ]
    }
   ],
   "source": [
    "# Slicing\n",
    "Namee = 'Alexander'\n",
    "print(Namee[:4])"
   ]
  },
  {
   "cell_type": "code",
   "execution_count": 32,
   "id": "ae77535a-c8b7-4e7d-a679-4e59fc908b68",
   "metadata": {},
   "outputs": [
    {
     "name": "stdout",
     "output_type": "stream",
     "text": [
      "ander\n"
     ]
    }
   ],
   "source": [
    "print(Namee[-5:])"
   ]
  },
  {
   "cell_type": "code",
   "execution_count": 33,
   "id": "8f9727b1-043e-4c49-83b5-ca30a6642eb4",
   "metadata": {},
   "outputs": [
    {
     "name": "stdout",
     "output_type": "stream",
     "text": [
      "and\n"
     ]
    }
   ],
   "source": [
    "print(Namee[-5:-2])"
   ]
  },
  {
   "cell_type": "code",
   "execution_count": 34,
   "id": "2287c22f-bfe1-4300-ba69-d723ff701b71",
   "metadata": {},
   "outputs": [
    {
     "name": "stdout",
     "output_type": "stream",
     "text": [
      "matthew jones\n"
     ]
    }
   ],
   "source": [
    "# string methods\n",
    "Fullname = 'Matthew Jones'\n",
    "print(Fullname.lower())"
   ]
  },
  {
   "cell_type": "code",
   "execution_count": 2,
   "id": "377df7dd-a8a4-4c7f-8631-d409297e92be",
   "metadata": {},
   "outputs": [
    {
     "name": "stdout",
     "output_type": "stream",
     "text": [
      "['Rice', 'Beans', 'Yam', 'Egg']\n",
      "<class 'list'>\n"
     ]
    }
   ],
   "source": [
    "# Advanced data types\n",
    "# List: [1]\n",
    "\n",
    "Food= ['Rice','Beans','Yam','Egg']\n",
    "print(Food)\n",
    "print (type(Food))"
   ]
  },
  {
   "cell_type": "code",
   "execution_count": 4,
   "id": "dbcb6ba7-81f0-4b17-92df-2d44481c02a2",
   "metadata": {},
   "outputs": [
    {
     "name": "stdout",
     "output_type": "stream",
     "text": [
      "['Rice', 'Beans']\n"
     ]
    }
   ],
   "source": [
    "print(Food[:2])"
   ]
  },
  {
   "cell_type": "code",
   "execution_count": 5,
   "id": "1b0c7738-5a25-4719-9b24-14649c617418",
   "metadata": {},
   "outputs": [
    {
     "name": "stdout",
     "output_type": "stream",
     "text": [
      "Beans\n"
     ]
    }
   ],
   "source": [
    "print(Food[1])"
   ]
  },
  {
   "cell_type": "code",
   "execution_count": 6,
   "id": "800181b0-ccb0-4f41-bb1b-3c96add5ca66",
   "metadata": {},
   "outputs": [
    {
     "name": "stdout",
     "output_type": "stream",
     "text": [
      "['Rice', 'Spaghetti', 'Yam', 'Egg']\n"
     ]
    }
   ],
   "source": [
    "# change one of the items in the list\n",
    "Food[1] = 'Spaghetti'\n",
    "print(Food)"
   ]
  },
  {
   "cell_type": "code",
   "execution_count": 8,
   "id": "794c7391-7c5c-4816-ba7e-ec64319ca883",
   "metadata": {},
   "outputs": [
    {
     "name": "stdout",
     "output_type": "stream",
     "text": [
      "4\n"
     ]
    }
   ],
   "source": [
    "# printing the length of the value in the list\n",
    "print(len(Food))"
   ]
  },
  {
   "cell_type": "code",
   "execution_count": 10,
   "id": "d5717717-f7de-4e40-b10a-f58b4de700d3",
   "metadata": {},
   "outputs": [
    {
     "name": "stdout",
     "output_type": "stream",
     "text": [
      "['Rice', 'Spaghetti', 'Yam', 'Egg', 'fufu', 'fufu']\n"
     ]
    }
   ],
   "source": [
    "# adding an extra item to the list\n",
    "Food.append('fufu')\n",
    "print(Food)"
   ]
  },
  {
   "cell_type": "code",
   "execution_count": 11,
   "id": "88b980bb-c056-4220-bf73-9cecb0a359f3",
   "metadata": {},
   "outputs": [
    {
     "name": "stdout",
     "output_type": "stream",
     "text": [
      "['Rice', 'Amala', 'Spaghetti', 'Yam', 'Egg', 'fufu', 'fufu']\n"
     ]
    }
   ],
   "source": [
    "Food.insert(1,'Amala')\n",
    "print(Food)"
   ]
  },
  {
   "cell_type": "code",
   "execution_count": 14,
   "id": "8618ddf9-3c17-4d91-a584-637012f39b9f",
   "metadata": {},
   "outputs": [
    {
     "name": "stdout",
     "output_type": "stream",
     "text": [
      "['Rice', 'Amala', 'Spaghetti', 'Yam', 'Egg']\n"
     ]
    }
   ],
   "source": [
    "Food.remove('fufu')\n",
    "print(Food)"
   ]
  },
  {
   "cell_type": "code",
   "execution_count": 15,
   "id": "f958b7cb-dd50-4d54-b24f-efb1d2b6821d",
   "metadata": {},
   "outputs": [
    {
     "name": "stdout",
     "output_type": "stream",
     "text": [
      "['Rice', 'Amala', 'Spaghetti', 'Yam']\n"
     ]
    }
   ],
   "source": [
    "Food.pop()\n",
    "print(Food)"
   ]
  },
  {
   "cell_type": "code",
   "execution_count": 16,
   "id": "1b0df888-8867-4bbc-bad4-b13d63826869",
   "metadata": {},
   "outputs": [
    {
     "name": "stdout",
     "output_type": "stream",
     "text": [
      "('Sade', 'Ife', 'Waliu', 25)\n",
      "<class 'tuple'>\n"
     ]
    }
   ],
   "source": [
    "# Tuples\n",
    "Names = ('Sade', 'Ife', 'Waliu', 25)\n",
    "print(Names)\n",
    "print(type(Names))"
   ]
  },
  {
   "cell_type": "code",
   "execution_count": 17,
   "id": "c3c0f8cf-77d6-48d4-b95e-e986e50ba208",
   "metadata": {},
   "outputs": [
    {
     "name": "stdout",
     "output_type": "stream",
     "text": [
      "4\n"
     ]
    }
   ],
   "source": [
    "print(len(Names))"
   ]
  },
  {
   "cell_type": "code",
   "execution_count": 22,
   "id": "db672ee9-9172-4e1b-a59a-365f9328f2b6",
   "metadata": {},
   "outputs": [
    {
     "name": "stdout",
     "output_type": "stream",
     "text": [
      "{'Germany', 'Nigeria', 'Khazaktan', 'England', 'Spain'}\n",
      "<class 'set'>\n"
     ]
    }
   ],
   "source": [
    "# set\n",
    "countries = {'Nigeria', 'Spain', 'Germany', 'England', 'Khazaktan'}\n",
    "print(countries)\n",
    "print(type(countries))"
   ]
  },
  {
   "cell_type": "code",
   "execution_count": 24,
   "id": "6a0fe0d3-436e-44b0-9a83-4aa491a8bcaa",
   "metadata": {},
   "outputs": [
    {
     "name": "stdout",
     "output_type": "stream",
     "text": [
      "{'Germany', 'Nigeria', 'Khazaktan', 'Canada', 'England', 'Spain'}\n"
     ]
    }
   ],
   "source": [
    "countries.add('Canada')\n",
    "print(countries)"
   ]
  },
  {
   "cell_type": "code",
   "execution_count": 25,
   "id": "c04ab453-a28f-48d5-80b2-cb3e9c17d93d",
   "metadata": {},
   "outputs": [
    {
     "name": "stdout",
     "output_type": "stream",
     "text": [
      "{'Germany', 'France', 'Spain', 'Nigeria', 'UK', 'Italy', 'Khazaktan', 'Canada', 'England'}\n"
     ]
    }
   ],
   "source": [
    "countries.update(['UK', 'Italy', 'France'])\n",
    "print(countries)"
   ]
  },
  {
   "cell_type": "code",
   "execution_count": 26,
   "id": "c30c4136-cce0-42a9-baff-c3808df2551e",
   "metadata": {},
   "outputs": [
    {
     "name": "stdout",
     "output_type": "stream",
     "text": [
      "{'Germany', 'France', 'Spain', 'Nigeria', 'UK', 'Khazaktan', 'Canada', 'England'}\n"
     ]
    }
   ],
   "source": [
    "countries.remove('Italy')\n",
    "print(countries)"
   ]
  },
  {
   "cell_type": "code",
   "execution_count": 27,
   "id": "75420fc2-38e7-4f54-b2ed-da537a759dfa",
   "metadata": {},
   "outputs": [
    {
     "name": "stdout",
     "output_type": "stream",
     "text": [
      "{'Germany', 'France', 'Spain', 'Nigeria', 'UK', 'Khazaktan', 'Canada', 'England'}\n"
     ]
    }
   ],
   "source": [
    "countries.discard('Italy')\n",
    "print(countries)"
   ]
  },
  {
   "cell_type": "code",
   "execution_count": 28,
   "id": "029821b9-736c-48f6-abf1-e653c8f26c2b",
   "metadata": {},
   "outputs": [
    {
     "name": "stdout",
     "output_type": "stream",
     "text": [
      "set()\n"
     ]
    }
   ],
   "source": [
    "countries.clear()\n",
    "print(countries)"
   ]
  },
  {
   "cell_type": "code",
   "execution_count": 29,
   "id": "f9cbb5c0-3883-498a-8203-fd7b54331198",
   "metadata": {},
   "outputs": [
    {
     "name": "stdout",
     "output_type": "stream",
     "text": [
      "{'Name': 'Arafah', 'Age': 24, 'sex': 'Male', 'Nationality': 'Niegria'}\n",
      "<class 'dict'>\n"
     ]
    }
   ],
   "source": [
    "# Dictionary \n",
    "student_details = {'Name': 'Arafah', 'Age' :24, 'sex' : 'Male', 'Nationality' :'Niegria'}\n",
    "print(student_details)\n",
    "print(type(student_details))"
   ]
  },
  {
   "cell_type": "code",
   "execution_count": 30,
   "id": "fbdb0b6f-c1a6-48d0-9681-c7e4786e6c4e",
   "metadata": {},
   "outputs": [
    {
     "name": "stdout",
     "output_type": "stream",
     "text": [
      "24\n"
     ]
    }
   ],
   "source": [
    "H = student_details['Age']\n",
    "print(H)"
   ]
  },
  {
   "cell_type": "code",
   "execution_count": 31,
   "id": "49742b91-4db5-4497-90ad-64978b746a77",
   "metadata": {},
   "outputs": [
    {
     "name": "stdout",
     "output_type": "stream",
     "text": [
      "{'Name': 'Arafah', 'Age': 24, 'sex': 'Male', 'Nationality': 'Niegria', 'Height': 5.6}\n"
     ]
    }
   ],
   "source": [
    "student_details['Height'] = 5.6\n",
    "print(student_details)"
   ]
  },
  {
   "cell_type": "code",
   "execution_count": 32,
   "id": "4c3a64b0-ec0d-4d55-b020-a1eda88f705d",
   "metadata": {},
   "outputs": [
    {
     "name": "stdout",
     "output_type": "stream",
     "text": [
      "5.6\n"
     ]
    }
   ],
   "source": [
    "print(student_details.pop('Height'))"
   ]
  },
  {
   "cell_type": "code",
   "execution_count": 35,
   "id": "64de2f28-26fd-4d4f-8f42-4a52c51f184c",
   "metadata": {},
   "outputs": [
    {
     "name": "stdout",
     "output_type": "stream",
     "text": [
      "The Amount of 50000 in Dollars is 31.25\n"
     ]
    }
   ],
   "source": [
    "# write a python program that converts naira to dollar and vice versa keeping Dollar at 1600\n",
    "Naira = 50000\n",
    "Dollar = 1600\n",
    "conversion = Naira/Dollar\n",
    "print(f'The Amount of {Naira} in Dollars is {conversion}')"
   ]
  },
  {
   "cell_type": "code",
   "execution_count": 41,
   "id": "15196dfa-5a7d-4192-84bf-9a00d6caf1bc",
   "metadata": {},
   "outputs": [
    {
     "name": "stdout",
     "output_type": "stream",
     "text": [
      "The Amount he is paying from 100000 in tithe is 10000.0\n"
     ]
    }
   ],
   "source": [
    "# write a python code that calculates tithe from the salary and prints how much the person is paying. keeping tithe at 10%\n",
    "Salary = 100000\n",
    "pay = 0.1\n",
    "tithe = Salary * pay\n",
    "print(f'The Amount he is paying from {Salary} in tithe is {tithe}')"
   ]
  },
  {
   "cell_type": "code",
   "execution_count": 43,
   "id": "3da00917-7602-4b31-bad5-ace8130c07df",
   "metadata": {},
   "outputs": [
    {
     "name": "stdin",
     "output_type": "stream",
     "text": [
      "write your Salary here : 77000\n"
     ]
    },
    {
     "name": "stdout",
     "output_type": "stream",
     "text": [
      "The Amount he is paying from 77000 in tithe is 7700.0\n"
     ]
    }
   ],
   "source": [
    "# Dynamic\n",
    "Salary = int(input('write your Salary here :'))\n",
    "pay = 0.1\n",
    "tithe = Salary * pay\n",
    "print(f'The Amount he is paying from {Salary} in tithe is {tithe}')"
   ]
  },
  {
   "cell_type": "code",
   "execution_count": 44,
   "id": "9301d3b6-5923-4572-8b19-a1ca703be073",
   "metadata": {},
   "outputs": [
    {
     "name": "stdin",
     "output_type": "stream",
     "text": [
      "put you Naira here : 77000\n"
     ]
    },
    {
     "name": "stdout",
     "output_type": "stream",
     "text": [
      "The Amount of #77000 in Dollars is $48.125\n"
     ]
    }
   ],
   "source": [
    "# write a python program that converts naira to dollar,make it dynamic\n",
    "Naira = int(input('put you Naira here :'))\n",
    "Dollar = 1600\n",
    "conversion = Naira/Dollar\n",
    "print(f'The Amount of #{Naira} in Dollars is ${conversion}')"
   ]
  },
  {
   "cell_type": "code",
   "execution_count": 46,
   "id": "59aca9fe-eebe-4a04-8bc6-fdf237a5aa98",
   "metadata": {},
   "outputs": [
    {
     "name": "stdin",
     "output_type": "stream",
     "text": [
      "Put your age here 31\n"
     ]
    },
    {
     "name": "stdout",
     "output_type": "stream",
     "text": [
      "Hey User you wound be 36 in 5 years time\n"
     ]
    }
   ],
   "source": [
    "# Write a Program that ask for the age of the user and tells them their age in 5 years\n",
    "AGE = int(input('Put your age here'))\n",
    "Later_Age= AGE + 5\n",
    "print (f'Hey User you wound be {Later_Age} in 5 years time' )"
   ]
  },
  {
   "cell_type": "code",
   "execution_count": 49,
   "id": "57f66099-278b-4c6c-8307-396ad0dd6b49",
   "metadata": {},
   "outputs": [
    {
     "name": "stdin",
     "output_type": "stream",
     "text": [
      "Put your distance in Kilometer here :  50\n"
     ]
    },
    {
     "name": "stdout",
     "output_type": "stream",
     "text": [
      "Your Ticket price for 50 KM is 2500\n"
     ]
    }
   ],
   "source": [
    "# write a program that takes in the distance in Kilometers and returns the amount to be paid, given that the fare per kilometer is #50\n",
    "Distance = int(input('Put your distance in Kilometer here : '))\n",
    "Price = Distance * 50\n",
    "print(f'Your Ticket price for {Distance} KM is {Price}')"
   ]
  },
  {
   "cell_type": "code",
   "execution_count": 56,
   "id": "f7dd2d36-d696-4839-a570-c819928615bf",
   "metadata": {},
   "outputs": [
    {
     "name": "stdin",
     "output_type": "stream",
     "text": [
      "Put the amount you want to borrow here :  50000\n"
     ]
    },
    {
     "name": "stdout",
     "output_type": "stream",
     "text": [
      "Your Simple Intrest given that you borrowed #50000 over 24hrs would be #3600.0\n"
     ]
    }
   ],
   "source": [
    "# write a program that calculates simple interest on a loan taken...#Intrest = (principal * Rate * Time)/100\n",
    "Principal = int(input('Put the amount you want to borrow here : '))\n",
    "Rate = 0.3\n",
    "Time = 24\n",
    "I = (Principal * Rate * Time)/100\n",
    "print(f'Your Simple Intrest given that you borrowed #{Principal} over 24hrs would be #{I}')"
   ]
  },
  {
   "cell_type": "code",
   "execution_count": null,
   "id": "f1f3e01d-c306-4e7f-a175-13dad6e00f27",
   "metadata": {},
   "outputs": [],
   "source": []
  }
 ],
 "metadata": {
  "kernelspec": {
   "display_name": "Python 3 (ipykernel)",
   "language": "python",
   "name": "python3"
  },
  "language_info": {
   "codemirror_mode": {
    "name": "ipython",
    "version": 3
   },
   "file_extension": ".py",
   "mimetype": "text/x-python",
   "name": "python",
   "nbconvert_exporter": "python",
   "pygments_lexer": "ipython3",
   "version": "3.11.7"
  }
 },
 "nbformat": 4,
 "nbformat_minor": 5
}
